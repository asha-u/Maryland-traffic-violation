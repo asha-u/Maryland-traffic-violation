{
 "cells": [
  {
   "cell_type": "code",
   "execution_count": 1,
   "id": "e7e03dc3",
   "metadata": {},
   "outputs": [],
   "source": [
    "import pandas as pd\n",
    "import numpy  as np\n",
    "import seaborn as sns\n",
    "%matplotlib inline\n",
    "from matplotlib import pyplot as plt"
   ]
  },
  {
   "cell_type": "code",
   "execution_count": 2,
   "id": "3ae166cc",
   "metadata": {},
   "outputs": [],
   "source": [
    "df = pd.read_csv('Traffic_Violations.csv', low_memory=False)"
   ]
  },
  {
   "cell_type": "code",
   "execution_count": 3,
   "id": "399fd96e",
   "metadata": {},
   "outputs": [
    {
     "data": {
      "text/plain": [
       "1292399"
      ]
     },
     "execution_count": 3,
     "metadata": {},
     "output_type": "execute_result"
    }
   ],
   "source": [
    "len(df)"
   ]
  },
  {
   "cell_type": "code",
   "execution_count": 4,
   "id": "b4644d94",
   "metadata": {},
   "outputs": [
    {
     "data": {
      "text/html": [
       "<div>\n",
       "<style scoped>\n",
       "    .dataframe tbody tr th:only-of-type {\n",
       "        vertical-align: middle;\n",
       "    }\n",
       "\n",
       "    .dataframe tbody tr th {\n",
       "        vertical-align: top;\n",
       "    }\n",
       "\n",
       "    .dataframe thead th {\n",
       "        text-align: right;\n",
       "    }\n",
       "</style>\n",
       "<table border=\"1\" class=\"dataframe\">\n",
       "  <thead>\n",
       "    <tr style=\"text-align: right;\">\n",
       "      <th></th>\n",
       "      <th>Date Of Stop</th>\n",
       "      <th>Time Of Stop</th>\n",
       "      <th>Agency</th>\n",
       "      <th>SubAgency</th>\n",
       "      <th>Description</th>\n",
       "      <th>Location</th>\n",
       "      <th>Latitude</th>\n",
       "      <th>Longitude</th>\n",
       "      <th>Accident</th>\n",
       "      <th>Belts</th>\n",
       "      <th>...</th>\n",
       "      <th>Charge</th>\n",
       "      <th>Article</th>\n",
       "      <th>Contributed To Accident</th>\n",
       "      <th>Race</th>\n",
       "      <th>Gender</th>\n",
       "      <th>Driver City</th>\n",
       "      <th>Driver State</th>\n",
       "      <th>DL State</th>\n",
       "      <th>Arrest Type</th>\n",
       "      <th>Geolocation</th>\n",
       "    </tr>\n",
       "  </thead>\n",
       "  <tbody>\n",
       "    <tr>\n",
       "      <th>0</th>\n",
       "      <td>09/24/2013</td>\n",
       "      <td>17:11:00</td>\n",
       "      <td>MCP</td>\n",
       "      <td>3rd district, Silver Spring</td>\n",
       "      <td>DRIVING VEHICLE ON HIGHWAY WITH SUSPENDED REGI...</td>\n",
       "      <td>8804 FLOWER AVE</td>\n",
       "      <td>NaN</td>\n",
       "      <td>NaN</td>\n",
       "      <td>No</td>\n",
       "      <td>No</td>\n",
       "      <td>...</td>\n",
       "      <td>13-401(h)</td>\n",
       "      <td>Transportation Article</td>\n",
       "      <td>No</td>\n",
       "      <td>BLACK</td>\n",
       "      <td>M</td>\n",
       "      <td>TAKOMA PARK</td>\n",
       "      <td>MD</td>\n",
       "      <td>MD</td>\n",
       "      <td>A - Marked Patrol</td>\n",
       "      <td>NaN</td>\n",
       "    </tr>\n",
       "    <tr>\n",
       "      <th>1</th>\n",
       "      <td>08/29/2017</td>\n",
       "      <td>10:19:00</td>\n",
       "      <td>MCP</td>\n",
       "      <td>2nd district, Bethesda</td>\n",
       "      <td>DRIVER FAILURE TO OBEY PROPERLY PLACED TRAFFIC...</td>\n",
       "      <td>WISCONSIN AVE@ ELM ST</td>\n",
       "      <td>38.981725</td>\n",
       "      <td>-77.092757</td>\n",
       "      <td>No</td>\n",
       "      <td>No</td>\n",
       "      <td>...</td>\n",
       "      <td>21-201(a1)</td>\n",
       "      <td>Transportation Article</td>\n",
       "      <td>No</td>\n",
       "      <td>WHITE</td>\n",
       "      <td>F</td>\n",
       "      <td>FAIRFAX STATION</td>\n",
       "      <td>VA</td>\n",
       "      <td>VA</td>\n",
       "      <td>A - Marked Patrol</td>\n",
       "      <td>(38.981725, -77.0927566666667)</td>\n",
       "    </tr>\n",
       "    <tr>\n",
       "      <th>2</th>\n",
       "      <td>12/01/2014</td>\n",
       "      <td>12:52:00</td>\n",
       "      <td>MCP</td>\n",
       "      <td>6th district, Gaithersburg / Montgomery Village</td>\n",
       "      <td>FAILURE STOP AND YIELD AT THRU HWY</td>\n",
       "      <td>CHRISTOPHER AVE/MONTGOMERY VILLAGE AVE</td>\n",
       "      <td>39.162888</td>\n",
       "      <td>-77.229088</td>\n",
       "      <td>No</td>\n",
       "      <td>No</td>\n",
       "      <td>...</td>\n",
       "      <td>21-403(b)</td>\n",
       "      <td>Transportation Article</td>\n",
       "      <td>No</td>\n",
       "      <td>BLACK</td>\n",
       "      <td>F</td>\n",
       "      <td>UPPER MARLBORO</td>\n",
       "      <td>MD</td>\n",
       "      <td>MD</td>\n",
       "      <td>A - Marked Patrol</td>\n",
       "      <td>(39.1628883333333, -77.2290883333333)</td>\n",
       "    </tr>\n",
       "    <tr>\n",
       "      <th>3</th>\n",
       "      <td>08/29/2017</td>\n",
       "      <td>09:22:00</td>\n",
       "      <td>MCP</td>\n",
       "      <td>3rd district, Silver Spring</td>\n",
       "      <td>FAILURE YIELD RIGHT OF WAY ON U TURN</td>\n",
       "      <td>CHERRY HILL RD./CALVERTON BLVD.</td>\n",
       "      <td>39.056975</td>\n",
       "      <td>-76.954633</td>\n",
       "      <td>No</td>\n",
       "      <td>No</td>\n",
       "      <td>...</td>\n",
       "      <td>21-402(b)</td>\n",
       "      <td>Transportation Article</td>\n",
       "      <td>No</td>\n",
       "      <td>BLACK</td>\n",
       "      <td>M</td>\n",
       "      <td>FORT WASHINGTON</td>\n",
       "      <td>MD</td>\n",
       "      <td>MD</td>\n",
       "      <td>A - Marked Patrol</td>\n",
       "      <td>(39.056975, -76.9546333333333)</td>\n",
       "    </tr>\n",
       "    <tr>\n",
       "      <th>4</th>\n",
       "      <td>08/28/2017</td>\n",
       "      <td>23:41:00</td>\n",
       "      <td>MCP</td>\n",
       "      <td>6th district, Gaithersburg / Montgomery Village</td>\n",
       "      <td>FAILURE OF DR. TO MAKE LANE CHANGE TO AVAIL. L...</td>\n",
       "      <td>355 @ SOUTH WESTLAND DRIVE</td>\n",
       "      <td>NaN</td>\n",
       "      <td>NaN</td>\n",
       "      <td>No</td>\n",
       "      <td>No</td>\n",
       "      <td>...</td>\n",
       "      <td>21-405(e1)</td>\n",
       "      <td>Transportation Article</td>\n",
       "      <td>No</td>\n",
       "      <td>WHITE</td>\n",
       "      <td>M</td>\n",
       "      <td>GAITHERSBURG</td>\n",
       "      <td>MD</td>\n",
       "      <td>MD</td>\n",
       "      <td>A - Marked Patrol</td>\n",
       "      <td>NaN</td>\n",
       "    </tr>\n",
       "  </tbody>\n",
       "</table>\n",
       "<p>5 rows × 35 columns</p>\n",
       "</div>"
      ],
      "text/plain": [
       "  Date Of Stop Time Of Stop Agency  \\\n",
       "0   09/24/2013     17:11:00    MCP   \n",
       "1   08/29/2017     10:19:00    MCP   \n",
       "2   12/01/2014     12:52:00    MCP   \n",
       "3   08/29/2017     09:22:00    MCP   \n",
       "4   08/28/2017     23:41:00    MCP   \n",
       "\n",
       "                                         SubAgency  \\\n",
       "0                      3rd district, Silver Spring   \n",
       "1                           2nd district, Bethesda   \n",
       "2  6th district, Gaithersburg / Montgomery Village   \n",
       "3                      3rd district, Silver Spring   \n",
       "4  6th district, Gaithersburg / Montgomery Village   \n",
       "\n",
       "                                         Description  \\\n",
       "0  DRIVING VEHICLE ON HIGHWAY WITH SUSPENDED REGI...   \n",
       "1  DRIVER FAILURE TO OBEY PROPERLY PLACED TRAFFIC...   \n",
       "2                 FAILURE STOP AND YIELD AT THRU HWY   \n",
       "3               FAILURE YIELD RIGHT OF WAY ON U TURN   \n",
       "4  FAILURE OF DR. TO MAKE LANE CHANGE TO AVAIL. L...   \n",
       "\n",
       "                                 Location   Latitude  Longitude Accident  \\\n",
       "0                         8804 FLOWER AVE        NaN        NaN       No   \n",
       "1                   WISCONSIN AVE@ ELM ST  38.981725 -77.092757       No   \n",
       "2  CHRISTOPHER AVE/MONTGOMERY VILLAGE AVE  39.162888 -77.229088       No   \n",
       "3         CHERRY HILL RD./CALVERTON BLVD.  39.056975 -76.954633       No   \n",
       "4              355 @ SOUTH WESTLAND DRIVE        NaN        NaN       No   \n",
       "\n",
       "  Belts  ...      Charge                 Article Contributed To Accident  \\\n",
       "0    No  ...   13-401(h)  Transportation Article                      No   \n",
       "1    No  ...  21-201(a1)  Transportation Article                      No   \n",
       "2    No  ...   21-403(b)  Transportation Article                      No   \n",
       "3    No  ...   21-402(b)  Transportation Article                      No   \n",
       "4    No  ...  21-405(e1)  Transportation Article                      No   \n",
       "\n",
       "    Race Gender      Driver City Driver State DL State        Arrest Type  \\\n",
       "0  BLACK      M      TAKOMA PARK           MD       MD  A - Marked Patrol   \n",
       "1  WHITE      F  FAIRFAX STATION           VA       VA  A - Marked Patrol   \n",
       "2  BLACK      F   UPPER MARLBORO           MD       MD  A - Marked Patrol   \n",
       "3  BLACK      M  FORT WASHINGTON           MD       MD  A - Marked Patrol   \n",
       "4  WHITE      M     GAITHERSBURG           MD       MD  A - Marked Patrol   \n",
       "\n",
       "                             Geolocation  \n",
       "0                                    NaN  \n",
       "1         (38.981725, -77.0927566666667)  \n",
       "2  (39.1628883333333, -77.2290883333333)  \n",
       "3         (39.056975, -76.9546333333333)  \n",
       "4                                    NaN  \n",
       "\n",
       "[5 rows x 35 columns]"
      ]
     },
     "execution_count": 4,
     "metadata": {},
     "output_type": "execute_result"
    }
   ],
   "source": [
    "df.head()"
   ]
  },
  {
   "cell_type": "code",
   "execution_count": 5,
   "id": "07c85642",
   "metadata": {},
   "outputs": [
    {
     "data": {
      "text/plain": [
       "Date Of Stop                   0\n",
       "Time Of Stop                   0\n",
       "Agency                         0\n",
       "SubAgency                     10\n",
       "Description                    9\n",
       "Location                       2\n",
       "Latitude                   95354\n",
       "Longitude                  95354\n",
       "Accident                       0\n",
       "Belts                          0\n",
       "Personal Injury                0\n",
       "Property Damage                0\n",
       "Fatal                          0\n",
       "Commercial License             0\n",
       "HAZMAT                         0\n",
       "Commercial Vehicle             0\n",
       "Alcohol                        0\n",
       "Work Zone                      0\n",
       "State                         59\n",
       "VehicleType                    0\n",
       "Year                        8074\n",
       "Make                          57\n",
       "Model                        187\n",
       "Color                      16127\n",
       "Violation Type                 0\n",
       "Charge                         0\n",
       "Article                    65169\n",
       "Contributed To Accident        0\n",
       "Race                           0\n",
       "Gender                         0\n",
       "Driver City                  217\n",
       "Driver State                  11\n",
       "DL State                     929\n",
       "Arrest Type                    0\n",
       "Geolocation                95354\n",
       "dtype: int64"
      ]
     },
     "execution_count": 5,
     "metadata": {},
     "output_type": "execute_result"
    }
   ],
   "source": [
    "df.isnull().sum()          "
   ]
  },
  {
   "cell_type": "code",
   "execution_count": 6,
   "id": "01780cc1",
   "metadata": {},
   "outputs": [
    {
     "data": {
      "text/plain": [
       "Date Of Stop                object\n",
       "Time Of Stop                object\n",
       "Agency                      object\n",
       "SubAgency                   object\n",
       "Description                 object\n",
       "Location                    object\n",
       "Latitude                   float64\n",
       "Longitude                  float64\n",
       "Accident                    object\n",
       "Belts                       object\n",
       "Personal Injury             object\n",
       "Property Damage             object\n",
       "Fatal                       object\n",
       "Commercial License          object\n",
       "HAZMAT                      object\n",
       "Commercial Vehicle          object\n",
       "Alcohol                     object\n",
       "Work Zone                   object\n",
       "State                       object\n",
       "VehicleType                 object\n",
       "Year                       float64\n",
       "Make                        object\n",
       "Model                       object\n",
       "Color                       object\n",
       "Violation Type              object\n",
       "Charge                      object\n",
       "Article                     object\n",
       "Contributed To Accident     object\n",
       "Race                        object\n",
       "Gender                      object\n",
       "Driver City                 object\n",
       "Driver State                object\n",
       "DL State                    object\n",
       "Arrest Type                 object\n",
       "Geolocation                 object\n",
       "dtype: object"
      ]
     },
     "execution_count": 6,
     "metadata": {},
     "output_type": "execute_result"
    }
   ],
   "source": [
    "df.dtypes"
   ]
  },
  {
   "cell_type": "markdown",
   "id": "c34f2497",
   "metadata": {},
   "source": [
    "#### Converts all upper case to lower case and space is replaced by  _"
   ]
  },
  {
   "cell_type": "code",
   "execution_count": 7,
   "id": "0ebdf63a",
   "metadata": {},
   "outputs": [],
   "source": [
    "df.columns = df.columns.str.lower().str.replace(' ','_')\n",
    "string_columns = list(df.dtypes[df.dtypes =='object'].index)\n",
    "for col in string_columns:\n",
    "    df[col] = df[col].str.lower().str.replace(' ','_')"
   ]
  },
  {
   "cell_type": "code",
   "execution_count": 8,
   "id": "14e26fbd",
   "metadata": {},
   "outputs": [
    {
     "data": {
      "text/html": [
       "<div>\n",
       "<style scoped>\n",
       "    .dataframe tbody tr th:only-of-type {\n",
       "        vertical-align: middle;\n",
       "    }\n",
       "\n",
       "    .dataframe tbody tr th {\n",
       "        vertical-align: top;\n",
       "    }\n",
       "\n",
       "    .dataframe thead th {\n",
       "        text-align: right;\n",
       "    }\n",
       "</style>\n",
       "<table border=\"1\" class=\"dataframe\">\n",
       "  <thead>\n",
       "    <tr style=\"text-align: right;\">\n",
       "      <th></th>\n",
       "      <th>date_of_stop</th>\n",
       "      <th>time_of_stop</th>\n",
       "      <th>agency</th>\n",
       "      <th>subagency</th>\n",
       "      <th>description</th>\n",
       "      <th>location</th>\n",
       "      <th>latitude</th>\n",
       "      <th>longitude</th>\n",
       "      <th>accident</th>\n",
       "      <th>belts</th>\n",
       "      <th>...</th>\n",
       "      <th>charge</th>\n",
       "      <th>article</th>\n",
       "      <th>contributed_to_accident</th>\n",
       "      <th>race</th>\n",
       "      <th>gender</th>\n",
       "      <th>driver_city</th>\n",
       "      <th>driver_state</th>\n",
       "      <th>dl_state</th>\n",
       "      <th>arrest_type</th>\n",
       "      <th>geolocation</th>\n",
       "    </tr>\n",
       "  </thead>\n",
       "  <tbody>\n",
       "    <tr>\n",
       "      <th>0</th>\n",
       "      <td>09/24/2013</td>\n",
       "      <td>17:11:00</td>\n",
       "      <td>mcp</td>\n",
       "      <td>3rd_district,_silver_spring</td>\n",
       "      <td>driving_vehicle_on_highway_with_suspended_regi...</td>\n",
       "      <td>8804_flower_ave</td>\n",
       "      <td>NaN</td>\n",
       "      <td>NaN</td>\n",
       "      <td>no</td>\n",
       "      <td>no</td>\n",
       "      <td>...</td>\n",
       "      <td>13-401(h)</td>\n",
       "      <td>transportation_article</td>\n",
       "      <td>no</td>\n",
       "      <td>black</td>\n",
       "      <td>m</td>\n",
       "      <td>takoma_park</td>\n",
       "      <td>md</td>\n",
       "      <td>md</td>\n",
       "      <td>a_-_marked_patrol</td>\n",
       "      <td>NaN</td>\n",
       "    </tr>\n",
       "    <tr>\n",
       "      <th>1</th>\n",
       "      <td>08/29/2017</td>\n",
       "      <td>10:19:00</td>\n",
       "      <td>mcp</td>\n",
       "      <td>2nd_district,_bethesda</td>\n",
       "      <td>driver_failure_to_obey_properly_placed_traffic...</td>\n",
       "      <td>wisconsin_ave@_elm_st</td>\n",
       "      <td>38.981725</td>\n",
       "      <td>-77.092757</td>\n",
       "      <td>no</td>\n",
       "      <td>no</td>\n",
       "      <td>...</td>\n",
       "      <td>21-201(a1)</td>\n",
       "      <td>transportation_article</td>\n",
       "      <td>no</td>\n",
       "      <td>white</td>\n",
       "      <td>f</td>\n",
       "      <td>fairfax_station</td>\n",
       "      <td>va</td>\n",
       "      <td>va</td>\n",
       "      <td>a_-_marked_patrol</td>\n",
       "      <td>(38.981725,_-77.0927566666667)</td>\n",
       "    </tr>\n",
       "    <tr>\n",
       "      <th>2</th>\n",
       "      <td>12/01/2014</td>\n",
       "      <td>12:52:00</td>\n",
       "      <td>mcp</td>\n",
       "      <td>6th_district,_gaithersburg_/_montgomery_village</td>\n",
       "      <td>failure_stop_and_yield_at_thru_hwy</td>\n",
       "      <td>christopher_ave/montgomery_village_ave</td>\n",
       "      <td>39.162888</td>\n",
       "      <td>-77.229088</td>\n",
       "      <td>no</td>\n",
       "      <td>no</td>\n",
       "      <td>...</td>\n",
       "      <td>21-403(b)</td>\n",
       "      <td>transportation_article</td>\n",
       "      <td>no</td>\n",
       "      <td>black</td>\n",
       "      <td>f</td>\n",
       "      <td>upper_marlboro</td>\n",
       "      <td>md</td>\n",
       "      <td>md</td>\n",
       "      <td>a_-_marked_patrol</td>\n",
       "      <td>(39.1628883333333,_-77.2290883333333)</td>\n",
       "    </tr>\n",
       "    <tr>\n",
       "      <th>3</th>\n",
       "      <td>08/29/2017</td>\n",
       "      <td>09:22:00</td>\n",
       "      <td>mcp</td>\n",
       "      <td>3rd_district,_silver_spring</td>\n",
       "      <td>failure_yield_right_of_way_on_u_turn</td>\n",
       "      <td>cherry_hill_rd./calverton_blvd.</td>\n",
       "      <td>39.056975</td>\n",
       "      <td>-76.954633</td>\n",
       "      <td>no</td>\n",
       "      <td>no</td>\n",
       "      <td>...</td>\n",
       "      <td>21-402(b)</td>\n",
       "      <td>transportation_article</td>\n",
       "      <td>no</td>\n",
       "      <td>black</td>\n",
       "      <td>m</td>\n",
       "      <td>fort_washington</td>\n",
       "      <td>md</td>\n",
       "      <td>md</td>\n",
       "      <td>a_-_marked_patrol</td>\n",
       "      <td>(39.056975,_-76.9546333333333)</td>\n",
       "    </tr>\n",
       "    <tr>\n",
       "      <th>4</th>\n",
       "      <td>08/28/2017</td>\n",
       "      <td>23:41:00</td>\n",
       "      <td>mcp</td>\n",
       "      <td>6th_district,_gaithersburg_/_montgomery_village</td>\n",
       "      <td>failure_of_dr._to_make_lane_change_to_avail._l...</td>\n",
       "      <td>355_@_south_westland_drive</td>\n",
       "      <td>NaN</td>\n",
       "      <td>NaN</td>\n",
       "      <td>no</td>\n",
       "      <td>no</td>\n",
       "      <td>...</td>\n",
       "      <td>21-405(e1)</td>\n",
       "      <td>transportation_article</td>\n",
       "      <td>no</td>\n",
       "      <td>white</td>\n",
       "      <td>m</td>\n",
       "      <td>gaithersburg</td>\n",
       "      <td>md</td>\n",
       "      <td>md</td>\n",
       "      <td>a_-_marked_patrol</td>\n",
       "      <td>NaN</td>\n",
       "    </tr>\n",
       "  </tbody>\n",
       "</table>\n",
       "<p>5 rows × 35 columns</p>\n",
       "</div>"
      ],
      "text/plain": [
       "  date_of_stop time_of_stop agency  \\\n",
       "0   09/24/2013     17:11:00    mcp   \n",
       "1   08/29/2017     10:19:00    mcp   \n",
       "2   12/01/2014     12:52:00    mcp   \n",
       "3   08/29/2017     09:22:00    mcp   \n",
       "4   08/28/2017     23:41:00    mcp   \n",
       "\n",
       "                                         subagency  \\\n",
       "0                      3rd_district,_silver_spring   \n",
       "1                           2nd_district,_bethesda   \n",
       "2  6th_district,_gaithersburg_/_montgomery_village   \n",
       "3                      3rd_district,_silver_spring   \n",
       "4  6th_district,_gaithersburg_/_montgomery_village   \n",
       "\n",
       "                                         description  \\\n",
       "0  driving_vehicle_on_highway_with_suspended_regi...   \n",
       "1  driver_failure_to_obey_properly_placed_traffic...   \n",
       "2                 failure_stop_and_yield_at_thru_hwy   \n",
       "3               failure_yield_right_of_way_on_u_turn   \n",
       "4  failure_of_dr._to_make_lane_change_to_avail._l...   \n",
       "\n",
       "                                 location   latitude  longitude accident  \\\n",
       "0                         8804_flower_ave        NaN        NaN       no   \n",
       "1                   wisconsin_ave@_elm_st  38.981725 -77.092757       no   \n",
       "2  christopher_ave/montgomery_village_ave  39.162888 -77.229088       no   \n",
       "3         cherry_hill_rd./calverton_blvd.  39.056975 -76.954633       no   \n",
       "4              355_@_south_westland_drive        NaN        NaN       no   \n",
       "\n",
       "  belts  ...      charge                 article contributed_to_accident  \\\n",
       "0    no  ...   13-401(h)  transportation_article                      no   \n",
       "1    no  ...  21-201(a1)  transportation_article                      no   \n",
       "2    no  ...   21-403(b)  transportation_article                      no   \n",
       "3    no  ...   21-402(b)  transportation_article                      no   \n",
       "4    no  ...  21-405(e1)  transportation_article                      no   \n",
       "\n",
       "    race gender      driver_city driver_state dl_state        arrest_type  \\\n",
       "0  black      m      takoma_park           md       md  a_-_marked_patrol   \n",
       "1  white      f  fairfax_station           va       va  a_-_marked_patrol   \n",
       "2  black      f   upper_marlboro           md       md  a_-_marked_patrol   \n",
       "3  black      m  fort_washington           md       md  a_-_marked_patrol   \n",
       "4  white      m     gaithersburg           md       md  a_-_marked_patrol   \n",
       "\n",
       "                             geolocation  \n",
       "0                                    NaN  \n",
       "1         (38.981725,_-77.0927566666667)  \n",
       "2  (39.1628883333333,_-77.2290883333333)  \n",
       "3         (39.056975,_-76.9546333333333)  \n",
       "4                                    NaN  \n",
       "\n",
       "[5 rows x 35 columns]"
      ]
     },
     "execution_count": 8,
     "metadata": {},
     "output_type": "execute_result"
    }
   ],
   "source": [
    "df.head()"
   ]
  },
  {
   "cell_type": "code",
   "execution_count": 9,
   "id": "3c71641e",
   "metadata": {},
   "outputs": [],
   "source": [
    "df.dropna(inplace=True) #  drop the null values"
   ]
  },
  {
   "cell_type": "code",
   "execution_count": 10,
   "id": "94dae7cb",
   "metadata": {},
   "outputs": [
    {
     "data": {
      "text/plain": [
       "date_of_stop               0\n",
       "time_of_stop               0\n",
       "agency                     0\n",
       "subagency                  0\n",
       "description                0\n",
       "location                   0\n",
       "latitude                   0\n",
       "longitude                  0\n",
       "accident                   0\n",
       "belts                      0\n",
       "personal_injury            0\n",
       "property_damage            0\n",
       "fatal                      0\n",
       "commercial_license         0\n",
       "hazmat                     0\n",
       "commercial_vehicle         0\n",
       "alcohol                    0\n",
       "work_zone                  0\n",
       "state                      0\n",
       "vehicletype                0\n",
       "year                       0\n",
       "make                       0\n",
       "model                      0\n",
       "color                      0\n",
       "violation_type             0\n",
       "charge                     0\n",
       "article                    0\n",
       "contributed_to_accident    0\n",
       "race                       0\n",
       "gender                     0\n",
       "driver_city                0\n",
       "driver_state               0\n",
       "dl_state                   0\n",
       "arrest_type                0\n",
       "geolocation                0\n",
       "dtype: int64"
      ]
     },
     "execution_count": 10,
     "metadata": {},
     "output_type": "execute_result"
    }
   ],
   "source": [
    "df.isnull().sum()"
   ]
  },
  {
   "cell_type": "code",
   "execution_count": 11,
   "id": "02f8af0e",
   "metadata": {},
   "outputs": [
    {
     "name": "stdout",
     "output_type": "stream",
     "text": [
      "<class 'pandas.core.frame.DataFrame'>\n",
      "Int64Index: 1120327 entries, 1 to 1291740\n",
      "Data columns (total 35 columns):\n",
      " #   Column                   Non-Null Count    Dtype  \n",
      "---  ------                   --------------    -----  \n",
      " 0   date_of_stop             1120327 non-null  object \n",
      " 1   time_of_stop             1120327 non-null  object \n",
      " 2   agency                   1120327 non-null  object \n",
      " 3   subagency                1120327 non-null  object \n",
      " 4   description              1120327 non-null  object \n",
      " 5   location                 1120327 non-null  object \n",
      " 6   latitude                 1120327 non-null  float64\n",
      " 7   longitude                1120327 non-null  float64\n",
      " 8   accident                 1120327 non-null  object \n",
      " 9   belts                    1120327 non-null  object \n",
      " 10  personal_injury          1120327 non-null  object \n",
      " 11  property_damage          1120327 non-null  object \n",
      " 12  fatal                    1120327 non-null  object \n",
      " 13  commercial_license       1120327 non-null  object \n",
      " 14  hazmat                   1120327 non-null  object \n",
      " 15  commercial_vehicle       1120327 non-null  object \n",
      " 16  alcohol                  1120327 non-null  object \n",
      " 17  work_zone                1120327 non-null  object \n",
      " 18  state                    1120327 non-null  object \n",
      " 19  vehicletype              1120327 non-null  object \n",
      " 20  year                     1120327 non-null  float64\n",
      " 21  make                     1120327 non-null  object \n",
      " 22  model                    1120327 non-null  object \n",
      " 23  color                    1120327 non-null  object \n",
      " 24  violation_type           1120327 non-null  object \n",
      " 25  charge                   1120327 non-null  object \n",
      " 26  article                  1120327 non-null  object \n",
      " 27  contributed_to_accident  1120327 non-null  object \n",
      " 28  race                     1120327 non-null  object \n",
      " 29  gender                   1120327 non-null  object \n",
      " 30  driver_city              1120327 non-null  object \n",
      " 31  driver_state             1120327 non-null  object \n",
      " 32  dl_state                 1120327 non-null  object \n",
      " 33  arrest_type              1120327 non-null  object \n",
      " 34  geolocation              1120327 non-null  object \n",
      "dtypes: float64(3), object(32)\n",
      "memory usage: 307.7+ MB\n"
     ]
    }
   ],
   "source": [
    "df.info()"
   ]
  },
  {
   "cell_type": "code",
   "execution_count": 12,
   "id": "64a2d7c9",
   "metadata": {},
   "outputs": [
    {
     "data": {
      "text/plain": [
       "1120327"
      ]
     },
     "execution_count": 12,
     "metadata": {},
     "output_type": "execute_result"
    }
   ],
   "source": [
    "len(df)"
   ]
  },
  {
   "cell_type": "code",
   "execution_count": 13,
   "id": "6a526815",
   "metadata": {},
   "outputs": [
    {
     "data": {
      "text/plain": [
       "count     1120327\n",
       "unique         26\n",
       "top         black\n",
       "freq       228552\n",
       "Name: color, dtype: object"
      ]
     },
     "execution_count": 13,
     "metadata": {},
     "output_type": "execute_result"
    }
   ],
   "source": [
    "df['color'].describe()"
   ]
  },
  {
   "cell_type": "code",
   "execution_count": 14,
   "id": "b8f5802a",
   "metadata": {},
   "outputs": [
    {
     "data": {
      "text/plain": [
       "count     1120327\n",
       "unique      16125\n",
       "top            4s\n",
       "freq       123370\n",
       "Name: model, dtype: object"
      ]
     },
     "execution_count": 14,
     "metadata": {},
     "output_type": "execute_result"
    }
   ],
   "source": [
    "df['model'].describe()"
   ]
  },
  {
   "cell_type": "code",
   "execution_count": 15,
   "id": "f2fa1ef0",
   "metadata": {},
   "outputs": [
    {
     "data": {
      "text/plain": [
       "black          228552\n",
       "silver         208094\n",
       "white          173313\n",
       "gray           125461\n",
       "red             88826\n",
       "blue            82911\n",
       "green           42496\n",
       "gold            36006\n",
       "blue,_dark      23953\n",
       "tan             23654\n",
       "maroon          19675\n",
       "blue,_light     15218\n",
       "beige           12837\n",
       "green,_dk       12615\n",
       "green,_lgt       6451\n",
       "brown            5228\n",
       "yellow           4255\n",
       "orange           3879\n",
       "bronze           2623\n",
       "purple           2179\n",
       "multicolor        832\n",
       "cream             704\n",
       "copper            363\n",
       "pink              160\n",
       "camouflage         22\n",
       "chrome             20\n",
       "Name: color, dtype: int64"
      ]
     },
     "execution_count": 15,
     "metadata": {},
     "output_type": "execute_result"
    }
   ],
   "source": [
    "df['color'].value_counts()"
   ]
  },
  {
   "cell_type": "code",
   "execution_count": 16,
   "id": "233c2762",
   "metadata": {},
   "outputs": [
    {
     "data": {
      "text/plain": [
       "4s            123370\n",
       "tk             72245\n",
       "accord         41579\n",
       "civic          38953\n",
       "camry          38063\n",
       "               ...  \n",
       "maxia              1\n",
       "nav,               1\n",
       "lxv6               1\n",
       "ram_pup            1\n",
       "impala_x16         1\n",
       "Name: model, Length: 16125, dtype: int64"
      ]
     },
     "execution_count": 16,
     "metadata": {},
     "output_type": "execute_result"
    }
   ],
   "source": [
    "df['model'].value_counts()"
   ]
  },
  {
   "cell_type": "code",
   "execution_count": 17,
   "id": "8991d926",
   "metadata": {},
   "outputs": [
    {
     "name": "stdout",
     "output_type": "stream",
     "text": [
      "          color                                     violation_type\n",
      "0         beige  citationcitationcitationcitationcitationcitati...\n",
      "1         black  citationcitationcitationcitationcitationcitati...\n",
      "2          blue  citationcitationcitationcitationcitationcitati...\n",
      "3    blue,_dark  citationcitationcitationcitationcitationcitati...\n",
      "4   blue,_light  citationcitationcitationcitationcitationcitati...\n",
      "5        bronze  citationcitationcitationcitationwarningwarning...\n",
      "6         brown  citationcitationcitationcitationcitationcitati...\n",
      "7    camouflage  citationcitationcitationwarningcitationcitatio...\n",
      "8        chrome  citationcitationcitationcitationwarningwarning...\n",
      "9        copper  citationwarningcitationwarningwarningwarningwa...\n",
      "10        cream  citationcitationcitationwarningwarningcitation...\n",
      "11         gold  citationcitationcitationcitationcitationcitati...\n",
      "12         gray  citationcitationcitationcitationcitationcitati...\n",
      "13        green  citationcitationcitationcitationcitationcitati...\n",
      "14    green,_dk  citationcitationcitationcitationcitationcitati...\n",
      "15   green,_lgt  citationcitationcitationcitationcitationcitati...\n",
      "16       maroon  citationcitationcitationcitationcitationcitati...\n",
      "17   multicolor  citationwarningcitationcitationwarningcitation...\n",
      "18       orange  warningwarningwarningcitationcitationcitationc...\n",
      "19         pink  citationcitationcitationcitationcitationcitati...\n",
      "20       purple  citationcitationcitationwarningcitationcitatio...\n",
      "21          red  citationcitationcitationcitationcitationcitati...\n",
      "22       silver  citationcitationcitationcitationcitationcitati...\n",
      "23          tan  citationcitationcitationcitationcitationcitati...\n",
      "24        white  citationcitationcitationcitationcitationcitati...\n",
      "25       yellow  warningcitationcitationcitationcitationcitatio...\n"
     ]
    }
   ],
   "source": [
    "for c in ['color']:\n",
    "    print(df[[c,'violation_type']].groupby([c],as_index=False).sum().sort_values(by=c))"
   ]
  },
  {
   "cell_type": "code",
   "execution_count": 18,
   "id": "8f39493e",
   "metadata": {},
   "outputs": [
    {
     "name": "stdout",
     "output_type": "stream",
     "text": [
      "          color  violation_type\n",
      "0         beige           12837\n",
      "1         black          228552\n",
      "2          blue           82911\n",
      "3    blue,_dark           23953\n",
      "4   blue,_light           15218\n",
      "5        bronze            2623\n",
      "6         brown            5228\n",
      "7    camouflage              22\n",
      "8        chrome              20\n",
      "9        copper             363\n",
      "10        cream             704\n",
      "11         gold           36006\n",
      "12         gray          125461\n",
      "13        green           42496\n",
      "14    green,_dk           12615\n",
      "15   green,_lgt            6451\n",
      "16       maroon           19675\n",
      "17   multicolor             832\n",
      "18       orange            3879\n",
      "19         pink             160\n",
      "20       purple            2179\n",
      "21          red           88826\n",
      "22       silver          208094\n",
      "23          tan           23654\n",
      "24        white          173313\n",
      "25       yellow            4255\n"
     ]
    }
   ],
   "source": [
    "for c in ['color']:\n",
    "    print(df[[c,'violation_type']].groupby([c],as_index=False).count().sort_values(by=c))\n",
    "    \n",
    "#black color vehicles are most likely to get involved in a traffic violation "
   ]
  },
  {
   "cell_type": "code",
   "execution_count": 19,
   "id": "211f02c8",
   "metadata": {},
   "outputs": [
    {
     "name": "stdout",
     "output_type": "stream",
     "text": [
      "              model                                     violation_type\n",
      "0         (comcast)                                           citation\n",
      "1       (sw)_passat                                     warningwarning\n",
      "2                 -  warningwarningwarningcitationwarningwarningwar...\n",
      "3             -----                                            warning\n",
      "4                 .  citationcitationcitationcitationcitationcitati...\n",
      "...             ...                                                ...\n",
      "16120          zx8r                                    citationwarning\n",
      "16121           zx9                                            warning\n",
      "16122        zx_600   citationcitationcitationcitationcitationcitation\n",
      "16123  zy1_suburban                                           citation\n",
      "16124       zzr1200   citationcitationcitationcitationcitationcitation\n",
      "\n",
      "[16125 rows x 2 columns]\n"
     ]
    }
   ],
   "source": [
    "for c in ['model']:\n",
    "    print(df[[c,'violation_type']].groupby([c],as_index=False).sum().sort_values(by=c))"
   ]
  },
  {
   "cell_type": "code",
   "execution_count": 20,
   "id": "4413eb04",
   "metadata": {},
   "outputs": [
    {
     "name": "stdout",
     "output_type": "stream",
     "text": [
      "              model  violation_type\n",
      "0         (comcast)               1\n",
      "1       (sw)_passat               2\n",
      "2                 -              11\n",
      "3             -----               1\n",
      "4                 .              26\n",
      "...             ...             ...\n",
      "16120          zx8r               2\n",
      "16121           zx9               1\n",
      "16122        zx_600               6\n",
      "16123  zy1_suburban               1\n",
      "16124       zzr1200               6\n",
      "\n",
      "[16125 rows x 2 columns]\n"
     ]
    }
   ],
   "source": [
    "for c in ['model']:\n",
    "    print(df[[c,'violation_type']].groupby([c],as_index=False).count().sort_values(by=c))\n",
    "    \n",
    "# 4s model vehicles are most likely to get involved in traffic violation"
   ]
  },
  {
   "cell_type": "code",
   "execution_count": 21,
   "id": "cb86b4b5",
   "metadata": {},
   "outputs": [
    {
     "name": "stderr",
     "output_type": "stream",
     "text": [
      "/opt/anaconda3/lib/python3.8/site-packages/seaborn/_decorators.py:36: FutureWarning: Pass the following variable as a keyword arg: x. From version 0.12, the only valid positional argument will be `data`, and passing other arguments without an explicit keyword will result in an error or misinterpretation.\n",
      "  warnings.warn(\n"
     ]
    },
    {
     "data": {
      "text/plain": [
       "<AxesSubplot:xlabel='color', ylabel='count'>"
      ]
     },
     "execution_count": 21,
     "metadata": {},
     "output_type": "execute_result"
    },
    {
     "data": {
      "image/png": "[encoded data removed]",
      "text/plain": [
       "<Figure size 432x288 with 1 Axes>"
      ]
     },
     "metadata": {
      "needs_background": "light"
     },
     "output_type": "display_data"
    }
   ],
   "source": [
    "sns.countplot(df['color'])\n"
   ]
  },
  {
   "cell_type": "code",
   "execution_count": 22,
   "id": "6b9548fa",
   "metadata": {},
   "outputs": [
    {
     "data": {
      "text/html": [
       "<div>\n",
       "<style scoped>\n",
       "    .dataframe tbody tr th:only-of-type {\n",
       "        vertical-align: middle;\n",
       "    }\n",
       "\n",
       "    .dataframe tbody tr th {\n",
       "        vertical-align: top;\n",
       "    }\n",
       "\n",
       "    .dataframe thead th {\n",
       "        text-align: right;\n",
       "    }\n",
       "</style>\n",
       "<table border=\"1\" class=\"dataframe\">\n",
       "  <thead>\n",
       "    <tr style=\"text-align: right;\">\n",
       "      <th></th>\n",
       "      <th>violation_type</th>\n",
       "    </tr>\n",
       "  </thead>\n",
       "  <tbody>\n",
       "    <tr>\n",
       "      <th>warning</th>\n",
       "      <td>577822</td>\n",
       "    </tr>\n",
       "    <tr>\n",
       "      <th>citation</th>\n",
       "      <td>542482</td>\n",
       "    </tr>\n",
       "    <tr>\n",
       "      <th>sero</th>\n",
       "      <td>23</td>\n",
       "    </tr>\n",
       "  </tbody>\n",
       "</table>\n",
       "</div>"
      ],
      "text/plain": [
       "          violation_type\n",
       "warning           577822\n",
       "citation          542482\n",
       "sero                  23"
      ]
     },
     "execution_count": 22,
     "metadata": {},
     "output_type": "execute_result"
    }
   ],
   "source": [
    "stops = df.violation_type.value_counts()\n",
    "violation_type_df = stops.to_frame()\n",
    "violation_type_df\n"
   ]
  },
  {
   "cell_type": "code",
   "execution_count": 23,
   "id": "d761438d",
   "metadata": {},
   "outputs": [
    {
     "data": {
      "image/png": "[encoded data removed]",
      "text/plain": [
       "<Figure size 720x360 with 1 Axes>"
      ]
     },
     "metadata": {
      "needs_background": "light"
     },
     "output_type": "display_data"
    }
   ],
   "source": [
    "df['violation_type'].value_counts().plot(kind='bar', figsize = (10,5))\n",
    "plt.xlabel('violation_type', size = 15)\n",
    "plt.ylabel('count' , size = 15)\n",
    "plt.show()"
   ]
  },
  {
   "cell_type": "code",
   "execution_count": 24,
   "id": "91455fa8",
   "metadata": {},
   "outputs": [
    {
     "data": {
      "text/plain": [
       "<AxesSubplot:>"
      ]
     },
     "execution_count": 24,
     "metadata": {},
     "output_type": "execute_result"
    },
    {
     "data": {
      "image/png": "[encoded data removed]",
      "text/plain": [
       "<Figure size 432x288 with 1 Axes>"
      ]
     },
     "metadata": {
      "needs_background": "light"
     },
     "output_type": "display_data"
    }
   ],
   "source": [
    "df['model'].value_counts()[:15].plot(kind='barh')"
   ]
  },
  {
   "cell_type": "code",
   "execution_count": 25,
   "id": "88b8fc0f",
   "metadata": {},
   "outputs": [
    {
     "data": {
      "text/plain": [
       "white              405965\n",
       "black              353301\n",
       "hispanic           231876\n",
       "asian               65769\n",
       "other               60792\n",
       "native_american      2624\n",
       "Name: race, dtype: int64"
      ]
     },
     "execution_count": 25,
     "metadata": {},
     "output_type": "execute_result"
    }
   ],
   "source": [
    "df['race'].value_counts()"
   ]
  },
  {
   "cell_type": "code",
   "execution_count": 26,
   "id": "7de47bdb",
   "metadata": {},
   "outputs": [
    {
     "data": {
      "text/plain": [
       "<AxesSubplot:>"
      ]
     },
     "execution_count": 26,
     "metadata": {},
     "output_type": "execute_result"
    },
    {
     "data": {
      "image/png": "[encoded data removed]",
      "text/plain": [
       "<Figure size 432x288 with 1 Axes>"
      ]
     },
     "metadata": {
      "needs_background": "light"
     },
     "output_type": "display_data"
    }
   ],
   "source": [
    "df['race'].value_counts()[:10].plot(kind='bar')"
   ]
  },
  {
   "cell_type": "code",
   "execution_count": 27,
   "id": "efec32e3",
   "metadata": {},
   "outputs": [
    {
     "name": "stdout",
     "output_type": "stream",
     "text": [
      "no     1120139\n",
      "yes        188\n",
      "Name: fatal, dtype: int64\n",
      "fatal:  ['no' 'yes']\n",
      "total number of fatal in df: 2\n"
     ]
    },
    {
     "data": {
      "text/plain": [
       "<AxesSubplot:>"
      ]
     },
     "execution_count": 27,
     "metadata": {},
     "output_type": "execute_result"
    },
    {
     "data": {
      "image/png": "[encoded data removed]",
      "text/plain": [
       "<Figure size 432x288 with 1 Axes>"
      ]
     },
     "metadata": {
      "needs_background": "light"
     },
     "output_type": "display_data"
    }
   ],
   "source": [
    "print(df['fatal'].value_counts())\n",
    "print(\"fatal: \", df.fatal.unique())\n",
    "print(\"total number of fatal in df:\",len(df.fatal.unique()))\n",
    "df['fatal'].value_counts()[:20].plot(kind='bar')"
   ]
  },
  {
   "cell_type": "code",
   "execution_count": 28,
   "id": "625a91c3",
   "metadata": {},
   "outputs": [
    {
     "name": "stdout",
     "output_type": "stream",
     "text": [
      "m    747492\n",
      "f    371571\n",
      "u      1264\n",
      "Name: gender, dtype: int64\n",
      "gender:  ['f' 'm' 'u']\n",
      "total number of genders in df: 3\n"
     ]
    },
    {
     "data": {
      "text/plain": [
       "<AxesSubplot:>"
      ]
     },
     "execution_count": 28,
     "metadata": {},
     "output_type": "execute_result"
    },
    {
     "data": {
      "image/png": "[encoded data removed]",
      "text/plain": [
       "<Figure size 432x288 with 1 Axes>"
      ]
     },
     "metadata": {
      "needs_background": "light"
     },
     "output_type": "display_data"
    }
   ],
   "source": [
    "print(df['gender'].value_counts())\n",
    "print(\"gender: \", df.gender.unique())\n",
    "print(\"total number of genders in df:\",len(df.gender.unique()))\n",
    "df['gender'].value_counts()[:20].plot(kind='bar')"
   ]
  },
  {
   "cell_type": "code",
   "execution_count": 29,
   "id": "61ec46d6",
   "metadata": {},
   "outputs": [
    {
     "name": "stdout",
     "output_type": "stream",
     "text": [
      "no     1080690\n",
      "yes      39637\n",
      "Name: belts, dtype: int64\n",
      "belts:  ['no' 'yes']\n",
      "total number of belts option in df: 2\n"
     ]
    },
    {
     "data": {
      "text/plain": [
       "<AxesSubplot:>"
      ]
     },
     "execution_count": 29,
     "metadata": {},
     "output_type": "execute_result"
    },
    {
     "data": {
      "image/png": "[encoded data removed]",
      "text/plain": [
       "<Figure size 432x288 with 1 Axes>"
      ]
     },
     "metadata": {
      "needs_background": "light"
     },
     "output_type": "display_data"
    }
   ],
   "source": [
    "print(df['belts'].value_counts())\n",
    "print(\"belts: \", df.belts.unique())\n",
    "print(\"total number of belts option in df:\",len(df.belts.unique()))\n",
    "df['belts'].value_counts()[:20].plot(kind='bar')"
   ]
  },
  {
   "cell_type": "code",
   "execution_count": 30,
   "id": "cd07ee7e",
   "metadata": {},
   "outputs": [
    {
     "name": "stdout",
     "output_type": "stream",
     "text": [
      "no     1107139\n",
      "yes      13188\n",
      "Name: personal_injury, dtype: int64\n",
      "personal_injury:  ['no' 'yes']\n",
      "total number of personal_injury in df: 2\n"
     ]
    },
    {
     "data": {
      "text/plain": [
       "<AxesSubplot:>"
      ]
     },
     "execution_count": 30,
     "metadata": {},
     "output_type": "execute_result"
    },
    {
     "data": {
      "image/png": "[encoded data removed]",
      "text/plain": [
       "<Figure size 432x288 with 1 Axes>"
      ]
     },
     "metadata": {
      "needs_background": "light"
     },
     "output_type": "display_data"
    }
   ],
   "source": [
    "print(df['personal_injury'].value_counts())\n",
    "print(\"personal_injury: \", df.personal_injury.unique())\n",
    "print(\"total number of personal_injury in df:\",len(df.personal_injury.unique()))\n",
    "df['personal_injury'].value_counts()[:20].plot(kind='bar')"
   ]
  },
  {
   "cell_type": "code",
   "execution_count": 31,
   "id": "3430b6d9",
   "metadata": {},
   "outputs": [
    {
     "name": "stdout",
     "output_type": "stream",
     "text": [
      "no     1114838\n",
      "yes       5489\n",
      "Name: commercial_vehicle, dtype: int64\n",
      "commercial_vehicle:  ['no' 'yes']\n",
      "total number of commercial_vehicle in df: 2\n"
     ]
    },
    {
     "data": {
      "text/plain": [
       "<AxesSubplot:ylabel='commercial_vehicle'>"
      ]
     },
     "execution_count": 31,
     "metadata": {},
     "output_type": "execute_result"
    },
    {
     "data": {
      "image/png": "[encoded data removed]",
      "text/plain": [
       "<Figure size 432x288 with 1 Axes>"
      ]
     },
     "metadata": {},
     "output_type": "display_data"
    }
   ],
   "source": [
    "print(df['commercial_vehicle'].value_counts())\n",
    "print(\"commercial_vehicle: \", df.commercial_vehicle.unique())\n",
    "print(\"total number of commercial_vehicle in df:\",len(df.commercial_vehicle.unique()))\n",
    "df['commercial_vehicle'].value_counts()[:20].plot(kind='pie')"
   ]
  },
  {
   "cell_type": "code",
   "execution_count": 32,
   "id": "cc8a8977",
   "metadata": {},
   "outputs": [
    {
     "name": "stdout",
     "output_type": "stream",
     "text": [
      "state:  ['va' 'md' 'dc' 'pa' 'ny' 'tn' 'de' 'ma' 'wv' 'fl' 'us' 'in' 'nj' 'mi'\n",
      " 'ca' 'ga' 'oh' 'ok' 'wa' 'sc' 'ct' 'nc' 'il' 'xx' 'al' 'vi' 'mo' 'tx'\n",
      " 'ky' 'az' 'on' 'nh' 'nm' 'ms' 'la' 'ri' 'nv' 'me' 'mn' 'id' 'wi' 'ar'\n",
      " 'vt' 'co' 'or' 'ak' 'ks' 'nb' 'mt' 'mb' 'ia' 'ut' 'pr' 'hi' 'ab' 'ne'\n",
      " 'wy' 'nf' 'qc' 'sd' 'nd' 'pq' 'mh' 'pe' 'bc' 'gu' 'ns' 'as' 'it']\n",
      "total number of state in df: 69\n"
     ]
    },
    {
     "data": {
      "text/plain": [
       "<AxesSubplot:>"
      ]
     },
     "execution_count": 32,
     "metadata": {},
     "output_type": "execute_result"
    },
    {
     "data": {
      "image/png": "[encoded data removed]",
      "text/plain": [
       "<Figure size 432x288 with 1 Axes>"
      ]
     },
     "metadata": {
      "needs_background": "light"
     },
     "output_type": "display_data"
    }
   ],
   "source": [
    "print(\"state: \", df.state.unique())\n",
    "print(\"total number of state in df:\",len(df.state.unique()))\n",
    "df['state'].value_counts()[:20].plot(kind='bar')"
   ]
  },
  {
   "cell_type": "code",
   "execution_count": 33,
   "id": "73f5471c",
   "metadata": {},
   "outputs": [
    {
     "name": "stdout",
     "output_type": "stream",
     "text": [
      "driver state:  ['va' 'md' 'dc' 'ny' 'pa' 'ak' 'nj' 'fl' 'az' 'oh' 'ct' 'wv' 'ca' 'nc'\n",
      " 'tx' 'ga' 'il' 'de' 'wa' 'nv' 'ma' 'mo' 'ky' 'al' 'on' 'mi' 'sc' 'la'\n",
      " 'xx' 'or' 'tn' 'ri' 'me' 'nh' 'pr' 'ks' 'wi' 'co' 'nd' 'mb' 'id' 'ok'\n",
      " 'ut' 'hi' 'mt' 'ms' 'nm' 'in' 'mn' 'vi' 'ia' 'ne' 'wy' 'qc' 'sd' 'ar'\n",
      " 'vt' 'gu' 'pe' 'ab' 'nf' 'us' 'bc' 'sk' 'ns' 'nb' 'pq']\n",
      "total number of driver state in df: 67\n"
     ]
    },
    {
     "data": {
      "text/plain": [
       "<AxesSubplot:>"
      ]
     },
     "execution_count": 33,
     "metadata": {},
     "output_type": "execute_result"
    },
    {
     "data": {
      "image/png": "[encoded data removed]",
      "text/plain": [
       "<Figure size 432x288 with 1 Axes>"
      ]
     },
     "metadata": {
      "needs_background": "light"
     },
     "output_type": "display_data"
    }
   ],
   "source": [
    "print(\"driver state: \", df.driver_state.unique())\n",
    "print(\"total number of driver state in df:\",len(df.driver_state.unique()))\n",
    "df['driver_state'].value_counts()[:10].plot(kind='bar')"
   ]
  },
  {
   "cell_type": "code",
   "execution_count": 34,
   "id": "0b49c90f",
   "metadata": {},
   "outputs": [
    {
     "name": "stdout",
     "output_type": "stream",
     "text": [
      "driver city:  ['fairfax_station' 'upper_marlboro' 'fort_washington' ... 'thurmony'\n",
      " 'chico' 'bell_gardens']\n",
      "total number of city in df: 6870\n"
     ]
    },
    {
     "data": {
      "text/plain": [
       "<AxesSubplot:ylabel='driver_city'>"
      ]
     },
     "execution_count": 34,
     "metadata": {},
     "output_type": "execute_result"
    },
    {
     "data": {
      "image/png": "[encoded data removed]",
      "text/plain": [
       "<Figure size 432x288 with 1 Axes>"
      ]
     },
     "metadata": {},
     "output_type": "display_data"
    }
   ],
   "source": [
    "print(\"driver city: \", df.driver_city.unique())\n",
    "print(\"total number of city in df:\",len(df.driver_city.unique()))\n",
    "df['driver_city'].value_counts()[:10].plot(kind='pie')"
   ]
  },
  {
   "cell_type": "code",
   "execution_count": 35,
   "id": "b545f44a",
   "metadata": {},
   "outputs": [
    {
     "name": "stdout",
     "output_type": "stream",
     "text": [
      "vehicle type:  ['02_-_automobile' '28_-_other' '05_-_light_duty_truck' '10_-_transit_bus'\n",
      " '01_-_motorcycle' '08_-_recreational_vehicle' '06_-_heavy_duty_truck'\n",
      " '03_-_station_wagon' '20_-_commercial_rig' '04_-_limousine'\n",
      " '07_-_truck/road_tractor' '19_-_moped' '09_-_farm_vehicle'\n",
      " '25_-_utility_trailer' '21_-_tandem_trailer' '26_-_boat_trailer'\n",
      " '12_-_school_bus' '16_-_fire(non-emerg)' '27_-_farm_equipment'\n",
      " '11_-_cross_country_bus' '29_-_unknown' '18_-_police_vehicle'\n",
      " '13_-_ambulance(emerg)' '18_-_police(non-emerg)' '13_-_ambulance'\n",
      " '22_-_mobile_home' '24_-_camper' '23_-_travel/home_trailer'\n",
      " '15_-_fire(emerg)' '14_-_ambulance(non-emerg)' '15_-_fire_vehicle'\n",
      " '17_-_police(emerg)']\n",
      "total number of vehicle in df: 32\n"
     ]
    },
    {
     "data": {
      "text/plain": [
       "<AxesSubplot:>"
      ]
     },
     "execution_count": 35,
     "metadata": {},
     "output_type": "execute_result"
    },
    {
     "data": {
      "image/png": "[encoded data removed]",
      "text/plain": [
       "<Figure size 432x288 with 1 Axes>"
      ]
     },
     "metadata": {
      "needs_background": "light"
     },
     "output_type": "display_data"
    }
   ],
   "source": [
    "print(\"vehicle type: \", df.vehicletype.unique())\n",
    "print(\"total number of vehicle in df:\",len(df.vehicletype.unique()))\n",
    "df['vehicletype'].value_counts()[:20].plot(kind='bar')"
   ]
  },
  {
   "cell_type": "code",
   "execution_count": 36,
   "id": "e1af5f91",
   "metadata": {},
   "outputs": [
    {
     "name": "stdout",
     "output_type": "stream",
     "text": [
      "make:  ['toyota' 'honda' 'dodg' ... 'boss' 'missubishi' 'volk.']\n",
      "total number of make in df: 3299\n"
     ]
    },
    {
     "data": {
      "text/plain": [
       "<AxesSubplot:>"
      ]
     },
     "execution_count": 36,
     "metadata": {},
     "output_type": "execute_result"
    },
    {
     "data": {
      "image/png": "[encoded data removed]",
      "text/plain": [
       "<Figure size 432x288 with 1 Axes>"
      ]
     },
     "metadata": {
      "needs_background": "light"
     },
     "output_type": "display_data"
    }
   ],
   "source": [
    "print(\"make: \", df.make.unique())\n",
    "print(\"total number of make in df:\",len(df.make.unique()))\n",
    "df['make'].value_counts()[:20].plot(kind='bar')"
   ]
  },
  {
   "cell_type": "code",
   "execution_count": 37,
   "id": "f912bb29",
   "metadata": {},
   "outputs": [
    {
     "name": "stdout",
     "output_type": "stream",
     "text": [
      "charge:  ['21-201(a1)' '21-403(b)' '21-402(b)' '13-401(h)' '21-311(1)'\n",
      " '21-1124.2(d2)' '22-412.3(b)' '21-902(b1)' '21-707(a)' '16-303(d)'\n",
      " '13-411(a)' '21-404(b)' '20-103(b)' '16-115(g)' '16-101(a)' '21-801.1'\n",
      " '21-402(a)' '16-116(a)' '20-105(a)' '16-303(c)' '21-403(d)' '16-303(h)'\n",
      " '16-301(j)' '13-409(b)' '21-801(b)' '13-411(d)' '16-301(e)' '21-401'\n",
      " '21-902(a1)' '21-1102(a)' '22-226(a)' '21-308(a)' '21-304(c)'\n",
      " '21-901.1(b)' '21-310(a)' '21-309(d)' '21-801(a)' '16-113(h)' '13-703(g)'\n",
      " '13-401(b)' '21-202(h1)' '21-1003(o)' '16-112(c)' '21-902(a2)'\n",
      " '21-904(b2)' '21-1101(a)' '16-303(f)' '16-113(j)' '16-113(k)' '13-411(f)'\n",
      " '22-203(b)' '21-405(e1)' '13-401(b1)' '21-604(d)' '16-105(b1)'\n",
      " '21-204(d)' '16-112(e)' '21-1001(b)' '16-303(g)' '22-209(b)'\n",
      " '22-412.3(c2)' '21-1003(aa)' '21-204(b)' '21-309(b)' '21-202(i2)'\n",
      " '22-201.1' '21-201(a2)' '13-411(c1)' '22-219(a)' '21-202(i1)'\n",
      " '22-406(i1)' '13-936e2i' '17-107' '21-202(k)' '21-601(b)' '13-411(c2)'\n",
      " '21-902(c1)' '21-502(a2)' '16-105(b2)' '20-103(a)' '22-204(f)'\n",
      " '13-701(a)' '22-412.3(c)' '20-105(b)' '22-227(b)' '21-301(a)' '20-104(d)'\n",
      " '21-1120(a)' '13-702(a)' '21-1116(a)' '13-410(e2)' '21-801(g)'\n",
      " '21-1107(b2)' '21-1104(c)' '22-201.2' '22-206(a)' '21-202(h2)'\n",
      " '21-901.1(a)' '22-404(a)' '17-104.2(b2)' '21-202(m)' '20-104(b)'\n",
      " '20-105(c)' '23-104' '13-414(a)' '21-1117(c)' '16-305(a)' '14-110(b)'\n",
      " '13-411(g)' '21-904(c2)' '21-301(b)' '21-309(i)' '13-409(a)' '16-301(k)'\n",
      " '22-412.2(d)' '22-412.3(c3)' '21-405(b)' '20-104(a)' '22-204(a)'\n",
      " '21-603(a)' '16-301(o)' '21-904(b3)' '21-314(b)' '20-105.1' '22-223(b)'\n",
      " '21-303(b)' '16-115(f)' '21-1107(b1)' '13-411(e)' '21-1207(a)'\n",
      " '18-106(b)' '13-411(c)' '21-904(b1)' '20-104(c)' '21-707(b)' '21-202(h)'\n",
      " '21-502(c)' '17-104' '13-401(i)' '22-609(a)' '21-902(d1)' '21-1124.1(b)'\n",
      " '22-227(d)' '22-401(b)' '21-504(a)' '22-405(b)' '21-804(a)' '21-405(e2)'\n",
      " '21-903(c)' '16-111.1(f)' '16-305(b)' '21-902(b2)' '21-1124.2(c1)'\n",
      " '21-1123(a2)' '21-707(c)' '21-705(a)' '21-1120(c)' '16-113(i)'\n",
      " '11-392.16' '21-601(a)' '21-1120(b)' '21-706(b)' '21-404(a)' '14-110(g)'\n",
      " '21-706(a)' '21-1112.1(a)' '21-1129' '21-1003(d)' '21-103(a)' '20-108'\n",
      " '21-904(c1)' '21-1006(b)' '22-405(a)' '11-391.41(a)' '22-219(g)'\n",
      " '16-211(b)' '21-305' '21-1122(c)' '13-106(d2)' '14-107(k)' '21-204(c)'\n",
      " '21-405(a)' '13-401(d)' '22-412.2(e)' '21-1124.2(c2)' '21-602(a)'\n",
      " '21-307(c)' '21-403(c)' '20-102(a1)' '20-102(a2)' '11-393.9'\n",
      " '11-391.11(b2)' '11-392.9(a)' '11-393.41' '21-304(b)' '11-393.75(b)'\n",
      " '21-1111(d)' '16-101(b)' '21-1104(d)' '22-230(b)' '22-209(a)' '11-392.33'\n",
      " '13-616.1(f2)' '22-402(a)' '22-219(b)' '21-601(d)' '21-301(c)'\n",
      " '21-1003(b)' '21-405(c)' '21-601(c)' '21-307(b)' '20-102(b1)' '14-110(f)'\n",
      " '14-108(a)' '16-301(i)' '16-112(b)' '21-901.2' '13-616.2(e2)' '21-606(b)'\n",
      " '21-802.1' '21-202(j)' '21-604(c)' '13-402(a1)' '13-616.1(f1)'\n",
      " '22-223(c)' '21-604(a)' '22-101(a)' '22-412.2(g)' '21-1003(e)'\n",
      " '16-301(q)' '21-1003(n)' '21-605(b)' '21-1408(a)' '21-404.1(a)'\n",
      " '21-705(c)' '21-904(c3)' '21-1117(d)' '13-401(f)' '21-1125(1)'\n",
      " '13-411(h)' '21-602(b)' '13-605' '13-504(a)' '21-902(a3)' '16-114(b)'\n",
      " '21-1003(dd)' '13-702(b)' '13-402(a2)' '22-216' '22-609(b)' '22-402(b)'\n",
      " '22-406(i3)' '21-801(h)' '21-1003(m)' '21-309(e)' '21-202(e)' '23-109(i)'\n",
      " '13-616.1(h2)' '21-1003(c)' '21-1104(a)' '13-501(e)' '22-210(c)'\n",
      " '11-391.11(a)' '22-105(a)' '11-390.21' '24-111.1(b)' '13-411(b2)'\n",
      " '21-605(a)' '22-205(a)' '22-221l2i(i2)' '22-222(b)' '22-404(c)'\n",
      " '13-604(c)' '21-1001(a)' '21-1114(d)' '21-309(h)' '13-708(a)'\n",
      " '26-305(d1)' '21-1003(r)' '22-403(b)' '16-301(d)' '14-102(b)' '14-102(a)'\n",
      " '16-303(i)' '21-1003(j)' '13-616.1(h1)' '22-217(c)' '21-1103(a)'\n",
      " '13-111(e)' '21-1117(b)' '13-940(c)' '21-804(b)' '13-415(g)' '11-393.48'\n",
      " '22-217(b)' '17-106(d)' '13-101.1' '21-1004(a)' '20-107(d)' '21-902(c3)'\n",
      " '21-606(c)' '21-504(b)' '21-1209(d)' '21-311(3)' '11-393.11(0a)'\n",
      " '11-396.9(d2)' '11-393.60' '18-103(c)' '13-701(b)' '21-1413(b)'\n",
      " '21-1003(q)' '21-311(2)' '11-393.75(c)' '21-1114(a)' '21-1003(u)'\n",
      " '26-102(a)' '13-936e2i(v)' '21-204.1' '22-214(b)' '21-1003(k)' '21-401.1'\n",
      " '21-202(c)' '21-303(e)' '13-411(b1)' '22-406(b)' '13-401(e)' '24-106(c)'\n",
      " '21-209(2)' '21-1004.1(a)' '16-114(d)' '11-393.43' '11-393.78'\n",
      " '11-393.81' '11-393.95(a)' '11-393.95(f)' '11-393.20(9d)' '22-405.2(b)'\n",
      " '21-1303(c)' '21-1303(d)' '21-1306.1(c)' '11-393.10(0b)' '13-401(c)'\n",
      " '16-302' '21-1104(b)' '22-403(a)' '7-705(b4)' '24-106.2(a)' '22-217(a)'\n",
      " '21-405(d)' '21-902.1' '25-202' '13-401(g)' '23-302(c)' '16-104.1(c)'\n",
      " '27-105(c1)' '21-1110' '22-218(c)' '21-804(c)' '21-1124(c)' '21-404.1(b)'\n",
      " '11-392.82' '24-106.1(b)' '21-1004(e)' '16-808(a5)' '22-211(b)'\n",
      " '16-808(a3)' '22-208' '21-1003(l)' '13-607(b)' '13-937.1d(2i)'\n",
      " '20-107(b)' '16-303(e)' '15-111(a)' '21-801(e)' '13-501(b)' '21-1003(cc)'\n",
      " '22-203(c)' '12-301(j)' '21-803.1(e)' '21-902(d2)' '13-112(e)'\n",
      " '21-707(f)' '21-303(c)' '21-1209(a2)' '21-204(f)' '13-112(c)' '17-106(b)'\n",
      " '21-1209(a1)' '11-391.15' '16-808(a6)' '21-2091(i)' '13-703(c)'\n",
      " '16-122(c)' '21-1306(b)' '16-301(f)' '17-104.1' '21-604(b)' '21-309(g)'\n",
      " '13-205(b)' '16-815(c)' '11-393.45(a)' '13-401(j)' '11-393.75(a3)'\n",
      " '13-625(e)' '15-311.2(c4)' '16-201' '25-108(b)' '21-1105(a)' '22-206(c)'\n",
      " '21-511(a3)' '21-1102(b)' '21-1112' '21-1003(h)' '21-1306.1(b)'\n",
      " '16-301(h)' '7-705(a23)' '16-303(b)' '22-221(f)' '16-301(g)' '22-413(a)'\n",
      " '16-301(l)' '11-396.3a' '21-302(b)' '22-221l2i(ii1)' '13-502(a)'\n",
      " '13-504(d)' '21-209(3)' '13-936e2i(ii)' '27-107(f)' '21-1111(c)' '13-403'\n",
      " '22-230(c)' '24-103(a)' '14-104(c)' '16-301(n)' '26-102(b)' '22-403(c)'\n",
      " '20-106' '21-1306(c)' '21-1003(g)' '25-202(a1)' '22-301(b)' '22-221(c)'\n",
      " '22-412(b)' '14-107(j)' '16-115(h)' '22-215.1(2)' '16-810(d)' '16-303(a)'\n",
      " '21-1101(b)' '21-504(c)' '21-207(b)' '11-393.10(6b)' '22-211(c)'\n",
      " '22-223(a)' '21-1004(b)' '22-227(e)' '21-707(d)' '21-307(d)' '14-107(f)'\n",
      " '21-1001(c)' '22-222(c)' '17-107(a1)' '21-309(c)' '13-708(b)' '22-218(e)'\n",
      " '21-1119(d)' '21-902(a1i)' '21-902(b1i)' '21-1404(a)' '18-106(a)'\n",
      " '16-808(a7)' '21-1409' '11-383.23' '16-104.1(d)' '21-806(b)'\n",
      " '22-402.1(a)' '22-219(e)' '11-395.8k' '21-508' '21-703(d)' '11-392.2'\n",
      " '13-703(d)' '22-406(d)' '21-308(b)' '22-408(a)' '21-902(c1i)'\n",
      " '21-1111(a)' '17-104.2(b1)' '22-405.2(a)' '13-936e(2i)' '21-1109(b)'\n",
      " '13-113.2(g)' '11-396.7' '13-946(c)' '22-206(b)' '16-101(a1)' '13-401(k)'\n",
      " '22-402(c)' '13-620(c)' '21-1407' '13-415(b)' '21-309(f)' '16-105(c)'\n",
      " '14-110(e)' '21-10a04a(7)' '22-218(f)' '21-1205(a)' '21-1205.1(d)'\n",
      " '21-1203(c)' '13-117(a)' '22-412(a)' '13-415(c)' '13-506(c12)'\n",
      " '11-393.84' '25-108(c)' '16-804' '16-815(a)' '16-104.1(a)' '16-301(c)'\n",
      " '16-211(c)' '13-936.2(e1)' '11-385.33(1)' '24-101(b)' '21-1003(s)'\n",
      " '21-503(b)' '21-902(a1ii)' '21-1104(c3)' '11-393.1' '24-107(b4)'\n",
      " '11-172.50(2a)' '22-219(d)' '13-936e2i(i)' '21-1124.3' '22-227(c)'\n",
      " '21-705(b)' '24-106.1(d2)' '20-107(a)' '13-607(d)' '11-393.10(0c)'\n",
      " '24-107(b1)' '11-393.80' '11-396.1' '24-106(b)' '7-705(b3)' '21-604(e)'\n",
      " '13-402.1(e1)' '23-109(j)' '21-1104(c1)' '11-393.20(5c)' '11-396.3(a)'\n",
      " '11-393.51(a)' '11-393.13(4)' '16-205(e15)' '21-1205(c)' '22-405(d)'\n",
      " '11-396.9c(2)' '21-2091(iii)' '22-227(f)' '16-808(b1)' '21-511(a1)'\n",
      " '25-111(g)' '22-404.1(b)' '13-607(e)' '21-1109(a)' '14-110(c)'\n",
      " '16-808(c)' '21-605(c)' '21-801(c)' '21-902(d1i)' '13-414(b)'\n",
      " '21-902(a2i)' '21-902(b2i)' '21-705(d)' '21-303(d)' '24-401(c)'\n",
      " '16-807(e2)' '11-393.12(8)' '16-301(m)' '11-383.91(a)' '11-393.75(h1)'\n",
      " '22-213(e)' '11-393.65' '22-412.4' '21-902a(1ii)' '11-393.20(7e)'\n",
      " '21-510(c)' '21-1127(b2)' '22-221(l22)' '22-222(a)' '21-502(b)'\n",
      " '24-106.1(d1)' '11-392.5a(3)' '24-106.1(e2)' '16-815(b)' '11-393.20(7c)'\n",
      " '14-104(b)' '13-501(a)' '22-404(b)' '21-107(c)' '14-104(a)' '13-415(f)'\n",
      " '21-707(e)' '22-401(c)' '21-404(e)' '22-413(d)' '21-503(a)' '12-301(f)'\n",
      " '16-813(a)' '13-203(c)' '13-629' '24-104' '11-392.3a' '17-107(a2)'\n",
      " '11-393.70' '11-393.10(6c)' '13-607(f)' '21-1302(d)' '16-116(b)'\n",
      " '23-109(k)' '18-103(a)' '12-301(11)' '11-393.75(a)' '22-204(b)'\n",
      " '13-936e(2ii)' '13-113(c)' '13-604(a)' '13-604(b)' '13-113(b)'\n",
      " '14-106(a)' '22-204(d)' '21-1125(3)' '22-402(c1)' '21-805.1(a)'\n",
      " '13-620(b)' '22-404.3(a)' '13-704(b)' '13-415(a)' '21-904(d1)'\n",
      " '22-602(a)' '11-395.8f' '13-616.2(d2)' '21-1210(a)' '22-227(a)'\n",
      " '21-1003(ee)' '13-703(f)' '21-203(c)' '22-214(c)' '21-104(b)' '22-105(b)'\n",
      " '21-1207(d)' '24-106.1(f)' '21-1408(b)' '21-205(a)' '21-801(d)'\n",
      " '11-392.4a' '13-703(h)' '13-113.2(c)' '11-107.62(0b)' '11-393.83'\n",
      " '21-1205.1(a)' '21-1125(2)' '11-392.5a' '11-392.8' '16-301(b)'\n",
      " '21-603(b)' '16-211(d)' '14-104(d)' '14-107(b)' '24-106.2(d)' '27-107(d)'\n",
      " '22-213(d)' '24-107(b3)' '13-415(h)' '21-1302(g)' '13-616.2(c2)'\n",
      " '22-406(e)' '13-502(b)' '11-396.13' '13-616.2(f1)' '21-1005(f)'\n",
      " '24-105(c1)' '13-501(c)' '15-302(a)' '26-305(d)' '11-392.80(a)'\n",
      " '21-1108(a)' '16-807(a)' '11-392.22' '11-393.13(0)' '12-301(e)'\n",
      " '22-221(j)' '11-393.20(3)' '11-393.87' '22-301(d)' '22-303' '21-503(c)'\n",
      " '22-219(c)' '11-397.17(a)' '11-393.47' '16-116(c)' '21-506(b)'\n",
      " '22-219(f)' '24-108(a1)' '16-211(e)' '21-1406' '15-312(a)' '11-395.13(d)'\n",
      " '21-1302(a)' '13-113.2(d)' '14-107(d)' '21-902(c2i)' '14-103(a)'\n",
      " '14-103(b)' '16-304(b)' '11-395.8a' '21-1004.1(c)' '22-406(c)'\n",
      " '21-1124.3(a)' '12-301(c)' '11-393.30' '16-104.1(b)' '22-410(d)'\n",
      " '13-616(i)' '24-106(e)' '17-110' '21-805(d)' '21-801(f)' '13-703(a)'\n",
      " '15-314(g)' '13-415(e)' '14-107(c)' '22-401(a)' '16-304(a)' '16-816(b)'\n",
      " '13-703(e)' '11-390.35' '21-312(a)' '21-1201(b)' '21-703.1' '21-1413(a)'\n",
      " '13-607(a)' '21-1210(b)' '13-606(b)' '16-201(b)' '22-211(d)' '22-418(b)'\n",
      " '22-104' '14-107(h)' '21-10a04a(6)' '8-409(h)' '21-1201(a)' '16-301(p)'\n",
      " '22-224.1' '24-203' '22-211(a)' '21-1207(b)' '21-703(b)' '21-1205.1(c)'\n",
      " '22-204(e)' '22-213(c)' '11-393.10(4a)' '13-402.1(e2)' '11-393.11(2)'\n",
      " '11-393.95(a2)' '22-214(a)' '11-172.32(8b1)' '11-172.51(6)'\n",
      " '13-936.2e(1ii)' '13-936.2e(1i)' '13-918(b)' '22-226(b)' '21-2091(ii)'\n",
      " '21-205(c)' '13-503(b)' '13-625(f)' '22-301(c)' '16-808(a91)' '21-505'\n",
      " '22-602(b)' '22-203(d)' '22-414.1' '13-411.1(c)' '22-210(a)' '22-205(b)'\n",
      " '13-703(b)' '13-415(d)' '16-301(a)' '11-172.30(0)' '11-393.10(4b)'\n",
      " '21-1128' '11-392.71(a)' '11-395.8e' '21-701(a)' '13-113(e4)'\n",
      " '21-10a04a(2)' '21-1003(f)' '11-393.86' '13-921(d)' '21-1114(c)'\n",
      " '21-1105(b)' '11-393.40(a)' '21-1125(4)' '7-705(f1)' '21-310(e)'\n",
      " '24-105(b)' '22-228(a)' '21-1003(v)' '13-920(i)' '22-221(e)' '24-103(b)'\n",
      " '11-393.20(5a)' '11-393.33' '11-393.20(1a)' '11-180.41(5a)'\n",
      " '11-172.20(2a)' '11-393.22' '13-620(d)' '21-1005(m)' '8-409(e)'\n",
      " '21-1206(a)' '11-393.71' '11-177.83(4)' '25-111(d)' '22-221(h)'\n",
      " '11-393.75(f)' '11-393.62' '22-301(e)' '22-611(b)' '11-393.42'\n",
      " '11-1527.0(8a)' '11-172.33(4b)' '11-172.51(9)' '22-407(d)' '21-1003(p)'\n",
      " '13-936e2v' '21-805(a)' '21-1209(b)' '21-404(d)' '21-1412(d)'\n",
      " '25-112(b3)' '21-106(c3i)' '21-1205.1(b2)' '21-1205.1(b3)' '13-203(b)'\n",
      " '22-228(d)' '22-215(a)' '11-392.60' '11-392.9' '16-101(a2)' '22-215.1(1)'\n",
      " '13-118(a)' '22-301(i)' '22-404.1(a)' '22-221(b)' '14-110(d)' '13-503(e)'\n",
      " '22-414' '21-203(d)' '24-107(h)' '7-705(b5)' '13-411.1(b)' '24-105(c21)'\n",
      " '14-105(e)' '23-302' '22-221(g)' '21-1205(b)' '22-408(d)' '22-408(c)'\n",
      " '22-408(b)' '16-112(d)' '15-311.2(c3)' '22-225' '15-311.2(c1)'\n",
      " '25-202(a2)' '11-392.14' '21-1404(d)' '16-211(a)' '21-202(l)' '15-106(b)'\n",
      " '12-301(l2)' '26-203' '21-1115(a)' '22-412(f)' '15-305.1(a5)' '13-921(e)'\n",
      " '21-503(d)' '11-393.10(4f)' '13-112(a)' '21-506(a)' '24-107(b2)'\n",
      " '23-109(b)' '21-1111(b)' '21-313(b)' '7-705(b8)' '24-107(d)' '21-1208(e)'\n",
      " '13-921(d2)' '22-401(e)' '11-172.20(0a)' '22-221(l23)' '13-420(b)'\n",
      " '11-396.3' '21-10a04a(5)' '11-383.93(b)' '11-177.81(7)' '24-112(e2)'\n",
      " '22-301(k)' '21-904(e2)' '22-407(a)' '21-1121(c)' '15-802' '24-202'\n",
      " '11-390.11' '21-106(c)' '21-1412(c)' '21-10a04(4)' '11-393.46(a)'\n",
      " '11-391.1c' '11-392.11' '21-1303(e)' '21-1127(a)' '14-107(g)'\n",
      " '11-396.9c(3)' '11-395.13(c)' '21-209' '24-111(d)' '11-392.10(a)'\n",
      " '21-1005(d)' '21-1302(b)' '21-1305(a)' '13-606(c)' '15-602' '21-1116(b)'\n",
      " '22-413(b)' '11-177.81(7e)' '13-118(b)' '11-177.80(4)' '8-409(i)']\n",
      "total number of charges in df: 939\n"
     ]
    },
    {
     "data": {
      "text/plain": [
       "<AxesSubplot:>"
      ]
     },
     "execution_count": 37,
     "metadata": {},
     "output_type": "execute_result"
    },
    {
     "data": {
      "image/png": "[encoded data removed]",
      "text/plain": [
       "<Figure size 432x288 with 1 Axes>"
      ]
     },
     "metadata": {
      "needs_background": "light"
     },
     "output_type": "display_data"
    }
   ],
   "source": [
    "print(\"charge: \", df.charge.unique())\n",
    "print(\"total number of charges in df:\",len(df.charge.unique()))\n",
    "df['charge'].value_counts()[:20].plot(kind='bar')"
   ]
  },
  {
   "cell_type": "code",
   "execution_count": 38,
   "id": "b955bbd6",
   "metadata": {},
   "outputs": [
    {
     "name": "stdout",
     "output_type": "stream",
     "text": [
      "date of stop:  ['08/29/2017' '12/01/2014' '10/08/2013' ... '08/20/2017' '08/22/2017'\n",
      " '08/24/2017']\n"
     ]
    },
    {
     "data": {
      "text/plain": [
       "<AxesSubplot:>"
      ]
     },
     "execution_count": 38,
     "metadata": {},
     "output_type": "execute_result"
    },
    {
     "data": {
      "image/png": "[encoded data removed]",
      "text/plain": [
       "<Figure size 432x288 with 1 Axes>"
      ]
     },
     "metadata": {
      "needs_background": "light"
     },
     "output_type": "display_data"
    }
   ],
   "source": [
    "print(\"date of stop: \", df.date_of_stop.unique())\n",
    "df['date_of_stop'].value_counts()[:20].plot(kind='bar')"
   ]
  },
  {
   "cell_type": "code",
   "execution_count": 39,
   "id": "ef219ede",
   "metadata": {},
   "outputs": [
    {
     "name": "stdout",
     "output_type": "stream",
     "text": [
      "time of stop:  ['10:19:00' '12:52:00' '09:22:00' ... '05:33:00' '04:55:00' '04:01:00']\n"
     ]
    },
    {
     "data": {
      "text/plain": [
       "<AxesSubplot:>"
      ]
     },
     "execution_count": 39,
     "metadata": {},
     "output_type": "execute_result"
    },
    {
     "data": {
      "image/png": "[encoded data removed]",
      "text/plain": [
       "<Figure size 432x288 with 1 Axes>"
      ]
     },
     "metadata": {
      "needs_background": "light"
     },
     "output_type": "display_data"
    }
   ],
   "source": [
    "print(\"time of stop: \", df.time_of_stop.unique())\n",
    "df['time_of_stop'].value_counts()[:20].plot(kind='bar')"
   ]
  },
  {
   "cell_type": "code",
   "execution_count": 40,
   "id": "e4894555",
   "metadata": {},
   "outputs": [
    {
     "name": "stdout",
     "output_type": "stream",
     "text": [
      "arrest_type:  ['a_-_marked_patrol' 'q_-_marked_laser' 'b_-_unmarked_patrol'\n",
      " 'm_-_marked_(off-duty)' 'e_-_marked_stationary_radar' 'l_-_motorcycle'\n",
      " 'r_-_unmarked_laser' 'o_-_foot_patrol' 's_-_license_plate_recognition'\n",
      " 'd_-_unmarked_vascar' 'i_-_marked_moving_radar_(moving)'\n",
      " 'h_-_unmarked_moving_radar_(stationary)'\n",
      " 'g_-_marked_moving_radar_(stationary)' 'f_-_unmarked_stationary_radar'\n",
      " 'p_-_mounted_patrol' 'c_-_marked_vascar'\n",
      " 'j_-_unmarked_moving_radar_(moving)' 'n_-_unmarked_(off-duty)'\n",
      " 'k_-_aircraft_assist']\n",
      "total number of arrest types in df: 19\n"
     ]
    },
    {
     "data": {
      "text/plain": [
       "<AxesSubplot:>"
      ]
     },
     "execution_count": 40,
     "metadata": {},
     "output_type": "execute_result"
    },
    {
     "data": {
      "image/png": "[encoded data removed]",
      "text/plain": [
       "<Figure size 432x288 with 1 Axes>"
      ]
     },
     "metadata": {
      "needs_background": "light"
     },
     "output_type": "display_data"
    }
   ],
   "source": [
    "print(\"arrest_type: \", df.arrest_type.unique())\n",
    "print(\"total number of arrest types in df:\",len(df.arrest_type.unique()))\n",
    "df['arrest_type'].value_counts()[:20].plot(kind='bar')"
   ]
  },
  {
   "cell_type": "code",
   "execution_count": 41,
   "id": "973adaf8",
   "metadata": {},
   "outputs": [
    {
     "name": "stdout",
     "output_type": "stream",
     "text": [
      "  gender  accident   belts  personal_injury  alcohol   fatal  property_damage\n",
      "0      f    371571  371571           371571   371571  371571           371571\n",
      "1      m    747492  747492           747492   747492  747492           747492\n",
      "2      u      1264    1264             1264     1264    1264             1264\n"
     ]
    },
    {
     "data": {
      "image/png": "[encoded data removed]",
      "text/plain": [
       "<Figure size 432x288 with 1 Axes>"
      ]
     },
     "metadata": {
      "needs_background": "light"
     },
     "output_type": "display_data"
    }
   ],
   "source": [
    "for c in ['gender']:\n",
    "    gender_violations=df[['gender','accident','belts','personal_injury','alcohol','fatal','property_damage']].groupby([c],as_index=False).count().sort_values(by=c)\n",
    "    print(gender_violations)\n",
    "    gender_violations.plot(kind='bar')"
   ]
  },
  {
   "cell_type": "code",
   "execution_count": null,
   "id": "adf4b493",
   "metadata": {},
   "outputs": [],
   "source": []
  }
 ],
 "metadata": {
  "kernelspec": {
   "display_name": "Python 3",
   "language": "python",
   "name": "python3"
  },
  "language_info": {
   "codemirror_mode": {
    "name": "ipython",
    "version": 3
   },
   "file_extension": ".py",
   "mimetype": "text/x-python",
   "name": "python",
   "nbconvert_exporter": "python",
   "pygments_lexer": "ipython3",
   "version": "3.8.8"
  }
 },
 "nbformat": 4,
 "nbformat_minor": 5
}
